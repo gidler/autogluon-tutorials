{
 "cells": [
  {
   "cell_type": "markdown",
   "id": "28169181",
   "metadata": {},
   "source": [
    "[![Open In Colab](https://colab.research.google.com/assets/colab-badge.svg)](https://colab.research.google.com/github/gidler/autogluon-tutorials/blob/main/tutorials/timeseries/forecasting-faq.ipynb)\n",
    "[![Open In SageMaker Studio Lab](https://studiolab.sagemaker.aws/studiolab.svg)](https://studiolab.sagemaker.aws/import/github/gidler/autogluon-tutorials/blob/main/tutorials/timeseries/forecasting-faq.ipynb)\n"
   ]
  },
  {
   "cell_type": "code",
   "execution_count": null,
   "id": "61319df3",
   "metadata": {},
   "outputs": [],
   "source": [
    "# Uncomment the code below and run this cell if AutoGluon is not yet installed in the kernel.\n",
    "# !pip install autogluon==0.5.2  # These tutorials are based on AutoGluon v0.5.2 and might not work with different versions."
   ]
  },
  {
   "cell_type": "markdown",
   "id": "37e30e32",
   "metadata": {},
   "source": [
    "# FAQ - Time Series\n",
    "\n",
    "\n",
    "\n",
    "\n",
    "### Where can I find more information about the models/metrics?\n",
    "\n",
    "Metrics are implemented in the `autogluon.timeseries.evaluator` module. We also follow some of \n",
    "the same conventions followed by GluonTS in their evaluation.\n",
    "Please refer to\n",
    "the GluonTS [documentation](https://ts.gluon.ai/api/gluonts/gluonts.html) and \n",
    "[github](https://github.com/awslabs/gluon-ts) for further information.\n",
    "\n",
    "A detailed description of evaluation metrics is also available at \n",
    "[here](https://docs.aws.amazon.com/forecast/latest/dg/metrics.html).\n",
    "\n",
    "### How can I get the most accurate forecast predictions?\n",
    "\n",
    "Generally setting the `predictor.fit()` argument `presets=\"best_quality\"` will result in high accuracy. \n",
    "Alternative options include manually specifying hyperparameter search spaces for certain models and \n",
    "manually increasing the number of hyperparameter optimization trials.\n",
    "\n",
    "\n",
    "### Can I use GPUs for model training?\n",
    "\n",
    "Yes! Most of the models used by AutoGluon-Forecasting support GPU training, but it is not \n",
    "required that you train on a GPU. Make sure you have installed CUDA and the GPU version of MXNet.\n",
    "AutoGluon will try to automatically detect whether your machine has a GPU, and train\n",
    "neural network based models on these. Multi-GPU training is not yet supported.\n",
    "\n",
    "\n",
    "### What machine is best for running AutoGluon-Forecasting?\n",
    "\n",
    "As an open-source library, AutoGluon-Forecasting can be run on any machine including your laptop. \n",
    "Currently it is not necessary to use a GPU to train forecasting models so CPU machines are fine \n",
    "albeit slower for certain models. We recommend running on a machine with as much memory as possible \n",
    "and the best available GPU (for instance if using AWS EC2, we \n",
    "recommend [P3 instances](https://aws.amazon.com/ec2/instance-types/p3/)).\n",
    "\n",
    "\n",
    "### Issues not addressed here\n",
    "\n",
    "First search if your issue is addressed in the [tutorials](https://auto.gluon.ai/stable/tutorials/index.html), \n",
    "[examples](https://github.com/awslabs/autogluon/tree/master/examples/forecasting), \n",
    "[documentation](https://auto.gluon.ai/stable/api/autogluon.predictor.html), or [Github issues](https://github.com/awslabs/autogluon/issues) \n",
    "(search both Closed and Open issues). \n",
    "If it is not there, please open a [new Github Issue](https://github.com/awslabs/autogluon/issues/new) and \n",
    "clearly state your issue and clarify it relates to forecasting. \n",
    "\n",
    "If you have a bug, please include: your code (ideally set `verbosity=4` which will print out more details), the \n",
    "output printed during the code execution, and information about your operating system, Python version, and \n",
    "installed packages (output of `pip freeze`). \n",
    "Many user issues stem from incorrectly formatted data, so please describe your data as clearly as possible."
   ]
  }
 ],
 "metadata": {
  "language_info": {
   "name": "python"
  }
 },
 "nbformat": 4,
 "nbformat_minor": 5
}
