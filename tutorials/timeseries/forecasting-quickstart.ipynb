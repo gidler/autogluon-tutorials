{
 "cells": [
  {
   "cell_type": "markdown",
   "id": "b644b889",
   "metadata": {},
   "source": [
    "# Forecasting Time Series - Quick Start\n",
    "\n",
    ":label:`sec_forecastingquick`\n",
    "\n",
    "\n",
    "Via a simple `fit()` call, AutoGluon can train \n",
    "\n",
    "- simple forecasting models (e.g., ARIMA, ETS),\n",
    "- powerful neural network-based models (e.g., DeepAR, Transformer, MQ-CNN),\n",
    "- and fit greedy weighted ensembles built on these\n",
    "\n",
    "to produce multi-step ahead _probabilistic_ forecasts for univariate time series data. \n",
    "\n",
    "---\n",
    "**NOTE**\n",
    "\n",
    "`autogluon.timeseries` depends on Apache MXNet. Please install MXNet by"
   ]
  },
  {
   "cell_type": "markdown",
   "id": "a31d4806",
   "metadata": {},
   "source": [
    "```shell\n",
    "python -m pip install mxnet>=1.9\n",
    "```\n"
   ]
  },
  {
   "cell_type": "markdown",
   "id": "249037f8",
   "metadata": {},
   "source": [
    "or, if you are using a GPU with a matching MXNet package for your CUDA driver. See the \n",
    "MXNet [documentation](https://mxnet.apache.org/versions/1.9.1/get_started?) for more info.\n",
    "\n",
    "---\n",
    "\n",
    "This tutorial demonstrates how to quickly start using AutoGluon to produce forecasts of COVID-19 cases in a \n",
    "country given [historical data from each country](https://www.kaggle.com/c/covid19-global-forecasting-week-4). \n",
    "\n",
    "`autogluon.timeseries` provides the `TimeSeriesPredictor` and `TimeSeriesDataFrame` classes for interacting \n",
    "with time series models. `TimeSeriesDataFrame` contains time series data. The `TimeSeriesPredictor` class \n",
    "provides the interface for fitting, tuning and selecting forecasting models."
   ]
  },
  {
   "cell_type": "code",
   "execution_count": null,
   "id": "9a9e15f4",
   "metadata": {},
   "outputs": [],
   "source": [
    "import pandas as pd\n",
    "from matplotlib import pyplot as plt\n",
    "\n",
    "from autogluon.timeseries import TimeSeriesPredictor, TimeSeriesDataFrame "
   ]
  },
  {
   "cell_type": "markdown",
   "id": "d37647fd",
   "metadata": {},
   "source": [
    "`TimeSeriesDataFrame` objects hold time series data, often with multiple \"items\" (time series) such as different\n",
    "products in demand forecasting. This setting is also sometimes referred to as a \"panel\" of time series.\n",
    "`TimeSeriesDataFrame` inherits from \n",
    "[Pandas DataFrame](https://pandas.pydata.org/pandas-docs/stable/reference/api/pandas.DataFrame.html), and \n",
    "the attributes and methods of `pandas.DataFrame`s are available in `TimeSeriesDataFrame`s.\n",
    "\n",
    "In our example, we work with COVID case data as of April 2020 where our goal is to forecast the number of confirmed COVID cases\n",
    "for each country in the data set.\n",
    "Below, we load time series data from an [AWS S3 bucket](https://aws.amazon.com/s3/), and prepare it for use in\n",
    "`autogluon.timeseries`. \n",
    "Note that we make sure the date field is parsed by pandas, and provide the columns containing\n",
    "the item (`id_column`) and timestamps (`timestamp_column`) to `TimeSeriesDataFrame`. \n",
    "We also plot the trajectories of COVID cases with two example countries:\n",
    "Germany and the UK."
   ]
  },
  {
   "cell_type": "code",
   "execution_count": null,
   "id": "dd685d7b",
   "metadata": {},
   "outputs": [],
   "source": [
    "df = pd.read_csv(\n",
    "    \"https://autogluon.s3-us-west-2.amazonaws.com/datasets/CovidTimeSeries/train.csv\",\n",
    "    parse_dates=[\"Date\"],\n",
    ")\n",
    "\n",
    "train_data = TimeSeriesDataFrame.from_data_frame(\n",
    "    df,\n",
    "    id_column=\"name\",\n",
    "    timestamp_column=\"Date\",\n",
    ")\n",
    "\n",
    "plt.figure(figsize=(20, 3))\n",
    "for country in [\"United Kingdom_\", \"Germany_\"]:\n",
    "    plt.plot(train_data.loc[country], label=country)\n",
    "plt.legend()"
   ]
  },
  {
   "cell_type": "markdown",
   "id": "27137f36",
   "metadata": {},
   "source": [
    "Note how `TimeSeriesDataFrame` objects organize the data with a `pandas.MultiIndex` where the first _level_ of the index \n",
    "corresponds to the item (here, country) and the second level contains the dates for which the values were observed.\n",
    "We can also use the `loc` accessor, as in pandas, to access individual country data."
   ]
  },
  {
   "cell_type": "code",
   "execution_count": null,
   "id": "47fa74ed",
   "metadata": {},
   "outputs": [],
   "source": [
    "train_data.head()"
   ]
  },
  {
   "cell_type": "code",
   "execution_count": null,
   "id": "e8c21b30",
   "metadata": {},
   "outputs": [],
   "source": [
    "train_data.loc['Afghanistan_'].head()"
   ]
  },
  {
   "cell_type": "markdown",
   "id": "d2b6c4ce",
   "metadata": {},
   "source": [
    "The primary use case of `autogluon.timeseries` is time series forecasting. In our example, our goal is to train models on COVID case data \n",
    "that can forecast the future trajectory of cases given the past, for each country in the data set. \n",
    "By default, `autogluon.timeseries` supports multi-step ahead _probabilistic_ forecasting. That is, multiple time steps in the future \n",
    "can be forecasted, given that models are trained with the prerequisite number of steps (also known as the _forecast horizon_). \n",
    "Moreover, when trained models are used to predict the future, the library will provide both `\"mean\"` \n",
    "forecasts--expected values of the time series in the future, as well as _quantiles_ of the forecast distribution.\n",
    "\n",
    "In order to train our forecasting models, we first split the data into training and test data sets. \n",
    "In forecasting, this is often done via excluding the last `prediction_length` many steps of the data set during training, and \n",
    "only use these steps to compute validation scores (also known as an \"out of time\" validation sample).\n",
    "We carry out this split via the `slice_by_timestep` method provided by `TimeSeriesDataFrame` which takes python `slice` objects."
   ]
  },
  {
   "cell_type": "code",
   "execution_count": null,
   "id": "9bf7afc5",
   "metadata": {},
   "outputs": [],
   "source": [
    "prediction_length = 5\n",
    "\n",
    "test_data = train_data.copy()  # the full data set\n",
    "\n",
    "# the data set with the last prediction_length time steps included, i.e., akin to `a[:-5]`\n",
    "train_data = train_data.slice_by_timestep(slice(None, -prediction_length))"
   ]
  },
  {
   "cell_type": "markdown",
   "id": "b600aac9",
   "metadata": {},
   "source": [
    "Below, for a single country we plot the training and test data sets showing how they overlap and explicitly mark the forecast horizon of the\n",
    "test data set. The test scores will be computed on forecasts provided for this range."
   ]
  },
  {
   "cell_type": "code",
   "execution_count": null,
   "id": "82f8d7cc",
   "metadata": {},
   "outputs": [],
   "source": [
    "plt.figure(figsize=(20, 3))\n",
    "plt.plot(test_data.loc[\"Germany_\"], label=\"test\")\n",
    "plt.plot(train_data.loc[\"Germany_\"], label=\"train\")\n",
    "\n",
    "test_range = (\n",
    "    test_data.loc[\"Germany_\"].index.max(),\n",
    "    train_data.loc[\"Germany_\"].index.max(),\n",
    ")\n",
    "\n",
    "plt.fill_betweenx(\n",
    "    y=(0, test_data.loc[\"Germany_\"][\"ConfirmedCases\"].max()),\n",
    "    x1=test_range[0],\n",
    "    x2=test_range[1],\n",
    "    alpha=0.1,\n",
    "    label=\"test forecast horizon\",\n",
    ")\n",
    "\n",
    "plt.legend()"
   ]
  },
  {
   "cell_type": "markdown",
   "id": "85ed3865",
   "metadata": {},
   "source": [
    "Below we instantiate a `TimeSeriesPredictor` object and instruct AutoGluon to fit models that can forecast up to \n",
    "5 time-points into the future (`prediction_length`) and save them in the folder `./autogluon-covidforecast`.\n",
    "We also specify that AutoGluon should rank models according to mean absolute percentage error (MAPE) and that\n",
    "the target field to be forecasted is `\"ConfirmedCases\"`."
   ]
  },
  {
   "cell_type": "code",
   "execution_count": null,
   "id": "40ac8b7b",
   "metadata": {},
   "outputs": [],
   "source": [
    "predictor = TimeSeriesPredictor(\n",
    "    path=\"autogluon-covidforecast\",     \n",
    "    target=\"ConfirmedCases\",\n",
    "    prediction_length=prediction_length,\n",
    "    eval_metric=\"MAPE\",\n",
    ")\n",
    "predictor.fit(\n",
    "    train_data=train_data,\n",
    "    presets=\"low_quality\",\n",
    ")"
   ]
  },
  {
   "cell_type": "markdown",
   "id": "c697b55d",
   "metadata": {},
   "source": [
    "In a short amount of time AutoGluon fits four time series forecasting models on the training data.\n",
    "These models are three neural network forecasters: DeepAR, MQCNN, a simple feedforward neural network; and a simple exponential smoothing model with \n",
    "automatic parameter tuning: Auto-ETS.\n",
    "AutoGluon also constructs a weighted ensemble of these models capable of quantile forecasting.\n",
    "\n",
    "We can view the test performance of each model AutoGluon has trained via the `leaderboard()` method.\n",
    "We provide the test data set to the leaderboard function to see how well our fitted models are doing on the held out time frame. \n",
    "In AutoGluon leaderboards, higher scores always correspond to better predictive performance. \n",
    "Therefore our MAPE scores are presented with a \"flipped\" sign, such that higher \"negative MAPE\"s correspond to better models."
   ]
  },
  {
   "cell_type": "code",
   "execution_count": null,
   "id": "fd8f2ac6",
   "metadata": {},
   "outputs": [],
   "source": [
    "predictor.leaderboard(test_data, silent=True)"
   ]
  },
  {
   "cell_type": "markdown",
   "id": "f72b8295",
   "metadata": {},
   "source": [
    "We can now use the `TimeSeriesPredictor` to look at actual forecasts. \n",
    "By default, AutoGluon will select the best performing model to forecast time series with. \n",
    "Let's use the predictor to compute forecasts, and plot forecasts for an example country."
   ]
  },
  {
   "cell_type": "code",
   "execution_count": null,
   "id": "5cf97f34",
   "metadata": {},
   "outputs": [],
   "source": [
    "predictions = predictor.predict(train_data)"
   ]
  },
  {
   "cell_type": "code",
   "execution_count": null,
   "id": "492e1cc2",
   "metadata": {},
   "outputs": [],
   "source": [
    "plt.figure(figsize=(20, 3))\n",
    "\n",
    "ytrue = train_data.loc['France_'][\"ConfirmedCases\"]\n",
    "ypred = predictions.loc['France_']\n",
    "\n",
    "# prepend the last value of true range to predicted range for plotting continuity\n",
    "ypred.loc[ytrue.index[-1]] = [ytrue[-1]] * 10\n",
    "ypred = ypred.sort_index()\n",
    "\n",
    "ytrue_test = test_data.loc['France_'][\"ConfirmedCases\"][-5:]\n",
    "\n",
    "plt.plot(ytrue[-30:], label=\"Training Data\")\n",
    "plt.plot(ypred[\"mean\"], label=\"Mean Forecasts\")\n",
    "plt.plot(ytrue_test, label=\"Actual\")\n",
    "\n",
    "plt.fill_between(\n",
    "    ypred.index, ypred[\"0.1\"], ypred[\"0.9\"], color=\"red\", alpha=0.1\n",
    ")\n",
    "plt.title(\"COVID Case Forecasts in France, compared to actual trajectory\")\n",
    "_ = plt.legend()"
   ]
  },
  {
   "cell_type": "markdown",
   "id": "a85d99d6",
   "metadata": {},
   "source": [
    "As we used a \"toy\" presets setting (`presets=\"low_quality\"`) our forecasts may appear to not be doing very well. In realistic scenarios, \n",
    "users can set `presets` to be one of: `\"best_quality\"`, `\"high_quality\"`, `\"good_quality\"`, `\"medium_quality\"`. \n",
    "Higher quality presets will generally produce superior forecasting accuracy but take longer to train and may produce less efficient models."
   ]
  }
 ],
 "metadata": {
  "language_info": {
   "name": "python"
  }
 },
 "nbformat": 4,
 "nbformat_minor": 5
}