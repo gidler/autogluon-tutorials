{
 "cells": [
  {
   "cell_type": "markdown",
   "id": "5b805293",
   "metadata": {},
   "source": [
    "[![Open In Colab](https://colab.research.google.com/assets/colab-badge.svg)](https://colab.research.google.com/github/gidler/autogluon-tutorials/blob/main/tutorials/cloud_fit_deploy/cloud-aws-sagemaker-deployment.ipynb)\n",
    "[![Open In SageMaker Studio Lab](https://studiolab.sagemaker.aws/studiolab.svg)](https://studiolab.sagemaker.aws/import/github/gidler/autogluon-tutorials/blob/main/tutorials/cloud_fit_deploy/cloud-aws-sagemaker-deployment.ipynb)\n"
   ]
  },
  {
   "cell_type": "code",
   "execution_count": null,
   "id": "4f847c54",
   "metadata": {},
   "outputs": [],
   "source": [
    "# Uncomment the code below and run this cell if AutoGluon is not yet installed in the kernel.\n",
    "# !pip install autogluon==0.5.2  # These tutorials are based on AutoGluon v0.5.2 and might not work with different versions."
   ]
  },
  {
   "cell_type": "markdown",
   "id": "71bc7d76",
   "metadata": {},
   "source": [
    "# Deploying AutoGluon Models with AWS SageMaker\n",
    "\n",
    "\n",
    "\n",
    "After learning how to train a model using AWS SageMaker [tutorials/cloud_fit_deploy/cloud-aws-sagemaker-training.ipynb](https://github.com/gidler/autogluon-tutorials/blob/main/tutorials/cloud_fit_deploy/cloud-aws-sagemaker-training.ipynb), in this section we will learn how to deploy \n",
    "trained models using AWS SageMaker and Deep Learning Containers. \n",
    "\n",
    "The full end-to-end example is available in [amazon-sagemaker-examples](https://github.com/aws/amazon-sagemaker-examples/tree/master/advanced_functionality/autogluon-tabular-containers) repository.\n",
    "\n",
    "## Pre-requisites\n",
    "Before starting ensure that the latest version of sagemaker python API is installed via (`pip install --upgrade sagemaker`). \n",
    "This is required to ensure the information about newly released containers is available.\n",
    "\n",
    "## Endpoint Deployment - Inference Script\n",
    "\n",
    "To start using the containers, an inference script and the [wrapper classes](https://github.com/aws/amazon-sagemaker-examples/blob/master/advanced_functionality/autogluon-tabular-containers/ag_model.py) are required.\n",
    "When authoring an inference [scripts](https://github.com/aws/amazon-sagemaker-examples/blob/master/advanced_functionality/autogluon-tabular-containers/scripts/), \n",
    "please refer to SageMaker [documentation](https://docs.aws.amazon.com/sagemaker/latest/dg/adapt-inference-container.html).\n",
    "\n",
    "Here is one of the possible inference scripts. \n",
    "\n",
    "- the `model_fn` function is responsible for loading your model. It takes a `model_dir` argument that specifies where the model is stored. \n",
    "\n",
    "- the `transform_fn` function is responsible for deserializing your input data so that it can be passed to your model. It takes input data and \n",
    "content type as parameters, and returns deserialized data. The SageMaker inference toolkit provides a default implementation that deserializes \n",
    "the following content types: JSON, CSV, numpy array, NPZ."
   ]
  },
  {
   "cell_type": "markdown",
   "id": "f750d77a",
   "metadata": {},
   "source": [
    "```{.python}\n",
    "from autogluon.tabular import TabularPredictor\n",
    "import os\n",
    "import json\n",
    "from io import StringIO\n",
    "import pandas as pd\n",
    "import numpy as np\n",
    "\n",
    "\n",
    "def model_fn(model_dir):\n",
    "    \"\"\"loads model from previously saved artifact\"\"\"\n",
    "    model = TabularPredictor.load(model_dir)\n",
    "    globals()[\"column_names\"] = model.feature_metadata_in.get_features()\n",
    "    model.persist_models()\n",
    "    return model\n",
    "\n",
    "\n",
    "def transform_fn(model, request_body, input_content_type, output_content_type=\"application/json\"):\n",
    "\n",
    "    if input_content_type == \"text/csv\":\n",
    "        buf = StringIO(request_body)\n",
    "        data = pd.read_csv(buf, header=None)\n",
    "        num_cols = len(data.columns)\n",
    "\n",
    "        if num_cols != len(column_names):\n",
    "            raise Exception(\n",
    "                f\"Invalid data format. Input data has {num_cols} while the model expects {len(column_names)}\"\n",
    "            )\n",
    "        else:\n",
    "            data.columns = column_names\n",
    "    else:\n",
    "        raise Exception(f\"{input_content_type} content type not supported\")\n",
    "\n",
    "    pred = model.predict(data)\n",
    "    pred_proba = model.predict_proba(data)\n",
    "    prediction = pd.concat([pred, pred_proba], axis=1).values\n",
    "\n",
    "    return json.dumps(prediction.tolist()), output_content_type\n",
    "```\n"
   ]
  },
  {
   "cell_type": "markdown",
   "id": "217fa194",
   "metadata": {},
   "source": [
    "## Deployment as an inference endpoint\n",
    "\n",
    "To deploy AutoGluon model as a SageMaker inference endpoint, we configure SageMaker session first:"
   ]
  },
  {
   "cell_type": "markdown",
   "id": "9baa8f91",
   "metadata": {},
   "source": [
    "```{.python}\n",
    "import sagemaker\n",
    "\n",
    "# Helper wrappers referred earlier\n",
    "from ag_model import (\n",
    "    AutoGluonTraining,\n",
    "    AutoGluonInferenceModel,\n",
    "    AutoGluonTabularPredictor,\n",
    ")\n",
    "from sagemaker import utils\n",
    "\n",
    "role = sagemaker.get_execution_role()\n",
    "sagemaker_session = sagemaker.session.Session()\n",
    "region = sagemaker_session._region_name\n",
    "\n",
    "bucket = sagemaker_session.default_bucket()\n",
    "s3_prefix = f\"autogluon_sm/{utils.sagemaker_timestamp()}\"\n",
    "output_path = f\"s3://{bucket}/{s3_prefix}/output/\"\n",
    "```\n"
   ]
  },
  {
   "cell_type": "markdown",
   "id": "94c8a366",
   "metadata": {},
   "source": [
    "Upload the model archive trained earlier (if you trained AutoGluon model locally, it must be a zip archive of the model output directory):"
   ]
  },
  {
   "cell_type": "markdown",
   "id": "f0ddb24b",
   "metadata": {},
   "source": [
    "```{.python}\n",
    "endpoint_name = sagemaker.utils.unique_name_from_base(\"sagemaker-autogluon-serving-trained-model\")\n",
    "\n",
    "model_data = sagemaker_session.upload_data(\n",
    "    path=os.path.join(\".\", \"model.tar.gz\"), key_prefix=f\"{endpoint_name}/models\"\n",
    ")\n",
    "```\n"
   ]
  },
  {
   "cell_type": "markdown",
   "id": "b00ab743",
   "metadata": {},
   "source": [
    "Deploy the model:"
   ]
  },
  {
   "cell_type": "markdown",
   "id": "1e49af7f",
   "metadata": {},
   "source": [
    "```{.python}\n",
    "instance_type = \"ml.m5.2xlarge\"\n",
    "\n",
    "model = AutoGluonInferenceModel(\n",
    "    model_data=model_data,\n",
    "    role=role,\n",
    "    region=region,\n",
    "    framework_version=\"0.4\",\n",
    "    py_version=\"py38\",\n",
    "    instance_type=instance_type,\n",
    "    source_dir=\"scripts\",\n",
    "    entry_point=\"tabular_serve.py\",\n",
    ")\n",
    "\n",
    "predictor = model.deploy(\n",
    "    initial_instance_count=1, serializer=CSVSerializer(), instance_type=instance_type\n",
    ")\n",
    "```\n"
   ]
  },
  {
   "cell_type": "markdown",
   "id": "b6fc72c6",
   "metadata": {},
   "source": [
    "Once the predictor is deployed, it can be used for inference in the following way:"
   ]
  },
  {
   "cell_type": "markdown",
   "id": "2e3394cd",
   "metadata": {},
   "source": [
    "```{.python}\n",
    "predictions = predictor.predict(data)\n",
    "```\n"
   ]
  },
  {
   "cell_type": "markdown",
   "id": "f4f39be6",
   "metadata": {},
   "source": [
    "## Using SageMaker batch transform for offline processing\n",
    "\n",
    "Deploying a trained model to a hosted endpoint has been available in SageMaker since launch and is a great way to provide real-time \n",
    "predictions to a service like a website or mobile app. But, if the goal is to generate predictions from a trained model on a large \n",
    "dataset where minimizing latency isn’t a concern, then the batch transform functionality may be easier, more scalable, and more appropriate.\n",
    "\n",
    "[Read more about Batch Transform.](https://docs.aws.amazon.com/sagemaker/latest/dg/batch-transform.html)\n",
    "\n",
    "Upload the model archive trained earlier (if you trained AutoGluon model locally, it must be a zip archive of the model output directory):"
   ]
  },
  {
   "cell_type": "markdown",
   "id": "2c257844",
   "metadata": {},
   "source": [
    "```{.python}\n",
    "endpoint_name = sagemaker.utils.unique_name_from_base(\n",
    "    \"sagemaker-autogluon-batch_transform-trained-model\"\n",
    ")\n",
    "\n",
    "model_data = sagemaker_session.upload_data(\n",
    "    path=os.path.join(\".\", \"model.tar.gz\"), key_prefix=f\"{endpoint_name}/models\"\n",
    ")\n",
    "```\n"
   ]
  },
  {
   "cell_type": "markdown",
   "id": "ffec1d8f",
   "metadata": {},
   "source": [
    "Prepare transform job:"
   ]
  },
  {
   "cell_type": "markdown",
   "id": "6d2b0388",
   "metadata": {},
   "source": [
    "```{.python}\n",
    "instance_type = \"ml.m5.2xlarge\"\n",
    "\n",
    "model = AutoGluonInferenceModel(\n",
    "    model_data=model_data,\n",
    "    role=role,\n",
    "    region=region,\n",
    "    framework_version=\"0.4\",\n",
    "    py_version=\"py38\",\n",
    "    instance_type=instance_type,\n",
    "    entry_point=\"tabular_serve-batch.py\",\n",
    "    source_dir=\"scripts\",\n",
    "    predictor_cls=AutoGluonTabularPredictor,\n",
    ")\n",
    "\n",
    "transformer = model.transformer(\n",
    "    instance_count=1,\n",
    "    instance_type=instance_type,\n",
    "    strategy=\"MultiRecord\",\n",
    "    max_payload=6,\n",
    "    max_concurrent_transforms=1,\n",
    "    output_path=output_path,\n",
    "    accept=\"application/json\",\n",
    "    assemble_with=\"Line\",\n",
    ")\n",
    "```\n"
   ]
  },
  {
   "cell_type": "markdown",
   "id": "51474570",
   "metadata": {},
   "source": [
    "The batch transform job accepts CSV file without header and index column - we need to remove them before sending to the transform job."
   ]
  },
  {
   "cell_type": "markdown",
   "id": "99a7dde6",
   "metadata": {},
   "source": [
    "```{.python}\n",
    "output_file_name = \"test_no_header.csv\"\n",
    "\n",
    "pd.read_csv(f\"data/test.csv\")[:100].to_csv(f\"data/{output_file_name}\", header=False, index=False)\n",
    "\n",
    "test_input = transformer.sagemaker_session.upload_data(\n",
    "    path=os.path.join(\"data\", \"test_no_header.csv\"), key_prefix=s3_prefix\n",
    ")\n",
    "```\n"
   ]
  },
  {
   "cell_type": "markdown",
   "id": "3a5bee27",
   "metadata": {},
   "source": [
    "The training script has some differences from the previous example, but follows the same APIs:"
   ]
  },
  {
   "cell_type": "markdown",
   "id": "acb1ed8a",
   "metadata": {},
   "source": [
    "```{.python}\n",
    "from autogluon.tabular import TabularPredictor\n",
    "import os\n",
    "import json\n",
    "from io import StringIO\n",
    "import pandas as pd\n",
    "import numpy as np\n",
    "\n",
    "\n",
    "def model_fn(model_dir):\n",
    "    \"\"\"loads model from previously saved artifact\"\"\"\n",
    "    model = TabularPredictor.load(model_dir)\n",
    "    globals()[\"column_names\"] = model.feature_metadata_in.get_features()\n",
    "    return model\n",
    "\n",
    "\n",
    "def transform_fn(model, request_body, input_content_type, output_content_type=\"application/json\"):\n",
    "    if input_content_type == \"text/csv\":\n",
    "        buf = StringIO(request_body)\n",
    "        data = pd.read_csv(buf, header=None)\n",
    "        num_cols = len(data.columns)\n",
    "        if num_cols != len(column_names):\n",
    "            raise Exception(\n",
    "                f\"Invalid data format. Input data has {num_cols} while the model expects {len(column_names)}\"\n",
    "            )\n",
    "        else:\n",
    "            data.columns = column_names\n",
    "    else:\n",
    "        raise Exception(f\"{input_content_type} content type not supported\")\n",
    "\n",
    "    pred = model.predict(data)\n",
    "    pred_proba = model.predict_proba(data)\n",
    "    prediction = pd.concat([pred, pred_proba], axis=1)\n",
    "\n",
    "    return prediction.to_json(), output_content_type\n",
    "```\n"
   ]
  },
  {
   "cell_type": "markdown",
   "id": "fa3a3822",
   "metadata": {},
   "source": [
    "Run the transform job.\n",
    "\n",
    "When making predictions on a large dataset, you can exclude attributes that aren't needed for prediction. After the predictions have been made, you can \n",
    "associate some of the excluded attributes with those predictions or with other input data in your report. By using batch transform to perform these data \n",
    "processing steps, you can often eliminate additional preprocessing or postprocessing. You can use input files in JSON and CSV format only. \n",
    "More details on how to use filters are available here: [Associate Prediction Results with Input Records](https://docs.aws.amazon.com/sagemaker/latest/dg/batch-transform-data-processing.html).\n",
    "In this specific case we will use `input_filter` argument to get first 14 columns, thus removing target variable from the test set and `output_filter` to\n",
    "extract only the actual classes predictions without scores."
   ]
  },
  {
   "cell_type": "markdown",
   "id": "048adb55",
   "metadata": {},
   "source": [
    "```{.python}\n",
    "transformer.transform(\n",
    "    test_input,\n",
    "    input_filter=\"$[:14]\",  # filter-out target variable\n",
    "    split_type=\"Line\",\n",
    "    content_type=\"text/csv\",\n",
    "    output_filter=\"$['class']\",  # keep only prediction class in the output\n",
    ")\n",
    "\n",
    "transformer.wait()\n",
    "\n",
    "output_s3_location = f\"{transformer.output_path[:-1]}/{output_file_name}\"\n",
    "```\n"
   ]
  },
  {
   "cell_type": "markdown",
   "id": "1a7b658e",
   "metadata": {},
   "source": [
    "The output file will be in `output_s3_location` variable.\n",
    "\n",
    "## Conclusion\n",
    "\n",
    "In this tutorial we explored a few options how to deploy AutoGluon models using SageMaker. To explore more, refer to \n",
    "[SageMaker inference](https://docs.aws.amazon.com/sagemaker/latest/dg/deploy-model.html) documentation."
   ]
  }
 ],
 "metadata": {
  "language_info": {
   "name": "python"
  }
 },
 "nbformat": 4,
 "nbformat_minor": 5
}
