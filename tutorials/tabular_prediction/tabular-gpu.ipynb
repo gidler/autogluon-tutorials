{
 "cells": [
  {
   "cell_type": "markdown",
   "id": "6591e275",
   "metadata": {},
   "source": [
    "[![Open In Colab](https://colab.research.google.com/assets/colab-badge.svg)](https://colab.research.google.com/github/gidler/autogluon-tutorials/blob/main/tutorials/tabular_prediction/tabular-gpu.ipynb)\n",
    "[![Open In SageMaker Studio Lab](https://studiolab.sagemaker.aws/studiolab.svg)](https://studiolab.sagemaker.aws/import/github/gidler/autogluon-tutorials/blob/main/tutorials/tabular_prediction/tabular-gpu.ipynb)\n"
   ]
  },
  {
   "cell_type": "code",
   "execution_count": null,
   "id": "a8644a0c",
   "outputs": [],
   "metadata": {},
   "source": [
    "# Uncomment the code below and run this cell if AutoGluon is not yet installed in the kernel.\n",
    "# !pip install autogluon==0.5.0  # These tutorials are based on AutoGluon v0.5.0 and might not work with different versions."
   ]
  },
  {
   "cell_type": "markdown",
   "id": "69daecc5",
   "metadata": {},
   "source": [
    "# Training models with GPU support\n",
    "\n",
    "\n",
    "\n",
    "Training with GPU can significantly speed up base algorithms, and is a necessity for text and vision models where training without GPU is infeasibly slow. \n",
    "CUDA toolkit is required for GPU training. Please refer to the [official documentation](https://docs.nvidia.com/cuda/) for the installation instructions."
   ]
  },
  {
   "cell_type": "markdown",
   "id": "9a9253fe",
   "metadata": {},
   "source": [
    "```{.python}\n",
    "predictor = TabularPredictor(label=label).fit(\n",
    "    train_data,\n",
    "    ag_args_fit={'num_gpus': 1}\n",
    ")\n",
    "```\n"
   ]
  },
  {
   "cell_type": "markdown",
   "id": "3d3f1282",
   "metadata": {},
   "source": [
    "To enable GPU acceleration on only specific models, the same parameter can be passed into model `hyperparameters`:"
   ]
  },
  {
   "cell_type": "markdown",
   "id": "d4e33090",
   "metadata": {},
   "source": [
    "```{.python}\n",
    "hyperparameters = {\n",
    "    'GBM': [\n",
    "        {'ag_args_fit': {'num_gpus': 0}},  # Train with CPU\n",
    "        {'ag_args_fit': {'num_gpus': 1}}   # Train with GPU\n",
    "    ]\n",
    "}\n",
    "predictor = TabularPredictor(label=label).fit(\n",
    "    train_data, \n",
    "    hyperparameters=hyperparameters, \n",
    ")\n",
    "```\n"
   ]
  },
  {
   "cell_type": "markdown",
   "id": "d1539319",
   "metadata": {},
   "source": [
    "## Multi-modal\n",
    "\n",
    "In [tutorials/tabular_prediction/tabular-multimodal.ipynb](https://github.com/gidler/autogluon-tutorials/blob/main/tutorials/tabular_prediction/tabular-multimodal.ipynb) tutorial we presented how to train an ensemble which can utilize tabular, text and images. \n",
    "If available GPUs don't have enough VRAM to fit the default model, or it is needed to speedup testing, different backends can be used:\n",
    "\n",
    "Regular configuration is retrieved like this:"
   ]
  },
  {
   "cell_type": "code",
   "execution_count": null,
   "id": "16eebe91",
   "metadata": {},
   "outputs": [],
   "source": [
    "from autogluon.tabular.configs.hyperparameter_configs import get_hyperparameter_config\n",
    "hyperparameters = get_hyperparameter_config('multimodal')\n",
    "hyperparameters"
   ]
  },
  {
   "cell_type": "markdown",
   "id": "9637db71",
   "metadata": {},
   "source": [
    "### Text models\n",
    "\n",
    "Text model preset to use can be set via:"
   ]
  },
  {
   "cell_type": "markdown",
   "id": "a2de2351",
   "metadata": {},
   "source": [
    "```{.python}\n",
    "hyperparameters['AG_TEXT_NN'] = ['<preset>']\n",
    "```\n"
   ]
  },
  {
   "cell_type": "markdown",
   "id": "badf4310",
   "metadata": {},
   "source": [
    "Available text model presets:"
   ]
  },
  {
   "cell_type": "code",
   "execution_count": null,
   "id": "f13370a1",
   "metadata": {},
   "outputs": [],
   "source": [
    "from autogluon.text.text_prediction.presets import list_text_presets\n",
    "list_text_presets()"
   ]
  },
  {
   "cell_type": "markdown",
   "id": "6cc34ef1",
   "metadata": {},
   "source": [
    "### Vision models\n",
    "\n",
    "Text model preset to use can be set via:"
   ]
  },
  {
   "cell_type": "markdown",
   "id": "29bd48dc",
   "metadata": {},
   "source": [
    "```{.python}\n",
    "hyperparameters['AG_IMAGE_NN'] = {'model': '<model>'}\n",
    "```\n"
   ]
  },
  {
   "cell_type": "markdown",
   "id": "73f79a32",
   "metadata": {},
   "source": [
    "The list of available text model presets is:"
   ]
  },
  {
   "cell_type": "code",
   "execution_count": null,
   "id": "908cbb69",
   "metadata": {},
   "outputs": [],
   "source": [
    "from autogluon.vision.predictor.predictor import _get_supported_models\n",
    "_get_supported_models()[:10]  # there're more, we just show a few"
   ]
  },
  {
   "cell_type": "markdown",
   "id": "48c21c6a",
   "metadata": {},
   "source": [
    "## Enabling GPU for LightGBM\n",
    "\n",
    "The default installation of LightGBM does not support GPU training, however GPU support can be enabled via a special install. If `num_gpus` is set, the following warning will be displayed:"
   ]
  },
  {
   "cell_type": "markdown",
   "id": "ede4c666",
   "metadata": {},
   "source": [
    "```\n",
    "Warning: GPU mode might not be installed for LightGBM, GPU training raised an exception. Falling back to CPU training...Refer to LightGBM GPU documentation: https://github.com/Microsoft/LightGBM/tree/master/python-package#build-gpu-versionOne possible method is:\tpip uninstall lightgbm -y\tpip install lightgbm --install-option=--gpu\n",
    "```\n"
   ]
  },
  {
   "cell_type": "markdown",
   "id": "89039f06",
   "metadata": {},
   "source": [
    "If the suggested commands do not work, uninstall existing lightgbm `pip uninstall -y lightgbm` and install from sources following the instructions in the [official guide](https://lightgbm.readthedocs.io/en/latest/GPU-Tutorial.html). The\n",
    "optional [Install Python Interface](https://lightgbm.readthedocs.io/en/latest/GPU-Tutorial.html#install-python-interface-optional) section is also required to make it work with AutoGluon.\n",
    "\n",
    "## Troubleshooting"
   ]
  },
  {
   "cell_type": "markdown",
   "id": "0fc338ba",
   "metadata": {},
   "source": [
    "```\n",
    "OSError: libcudnn.so.X: cannot open shared object file: No such file or directory\n",
    "OSError: libcudart.so.XX.Y: cannot open shared object file: No such file or directory\n",
    "```\n"
   ]
  },
  {
   "cell_type": "markdown",
   "id": "42fe7f45",
   "metadata": {},
   "source": [
    "This might happen when installed cuda is not matching MXNet library. To resolve it, get the cuda version installed in system: `nvcc --version` or `nvidia-smi`. Then install matching `mxnet-cuXXX` package (CUDA `11.0` -> `mxnet-cu110`, etc.)"
   ]
  },
  {
   "cell_type": "markdown",
   "id": "16151814",
   "metadata": {},
   "source": [
    "```\n",
    "pip install 'mxnet-cu110<2.0.0'\n",
    "```\n"
   ]
  }
 ],
 "metadata": {
  "language_info": {
   "name": "python"
  }
 },
 "nbformat": 4,
 "nbformat_minor": 5
}