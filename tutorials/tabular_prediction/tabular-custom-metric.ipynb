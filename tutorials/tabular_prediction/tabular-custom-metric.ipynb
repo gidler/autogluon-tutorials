{
 "cells": [
  {
   "cell_type": "markdown",
   "id": "a52590e0",
   "metadata": {},
   "source": [
    "# Adding a custom metric to AutoGluon\n",
    "\n",
    ":label:`sec_tabularcustommetric`\n",
    "\n",
    "\n",
    "**Tip**: If you are new to AutoGluon, review :ref:`sec_tabularquick` to learn the basics of the AutoGluon API.\n",
    "\n",
    "This tutorial describes how to add a custom evaluation metric to AutoGluon that is used to inform validation scores, model ensembling, hyperparameter tuning, and more.\n",
    "\n",
    "In this example, we show a variety of evaluation metrics and how to convert them to an AutoGluon Scorer, which can then be passed to AutoGluon models and predictors.\n",
    "\n",
    "First, we will randomly generate 10 ground truth labels and predictions, and show how to calculate metric scores from them."
   ]
  },
  {
   "cell_type": "code",
   "execution_count": null,
   "id": "2d822514",
   "metadata": {},
   "outputs": [],
   "source": [
    "import numpy as np\n",
    "y_true = np.random.randint(low=0, high=2, size=10)\n",
    "y_pred = np.random.randint(low=0, high=2, size=10)\n",
    "\n",
    "print(f'y_true: {y_true}')\n",
    "print(f'y_pred: {y_pred}')"
   ]
  },
  {
   "cell_type": "markdown",
   "id": "5e8c94bf",
   "metadata": {},
   "source": [
    "## Ensuring Metric is Serializable\n",
    "You must define your custom metric in a separate python file that is imported for it to be serializable (able to be pickled).\n",
    "If this is not done, AutoGluon will crash during fit when trying to parallelize model training with Ray.\n",
    "In the below example, you would want to create a new python file such as `my_metrics.py` with `ag_accuracy_scorer` defined in it,\n",
    "and then use it via `from my_metrics import ag_accuracy_scorer`.\n",
    "\n",
    "If your metric is not serializable, you will get many errors similar to: `_pickle.PicklingError: Can't pickle`. Refer to https://github.com/awslabs/autogluon/issues/1637 for an example.\n",
    "\n",
    "The custom metrics in this tutorial are **not** serializable for ease of demonstration. If `best_quality` preset was used, it would crash.\n",
    "\n",
    "## Custom Accuracy Metric\n",
    "We will start with calculating accuracy. A prediction is correct if the predicted value is the same as the true value, otherwise it is wrong."
   ]
  },
  {
   "cell_type": "code",
   "execution_count": null,
   "id": "3496a87c",
   "metadata": {},
   "outputs": [],
   "source": [
    "import sklearn.metrics\n",
    "sklearn.metrics.accuracy_score(y_true, y_pred)"
   ]
  },
  {
   "cell_type": "markdown",
   "id": "9c8cc6c2",
   "metadata": {},
   "source": [
    "Now, let's convert this evaluation metric to an AutoGluon Scorer.\n",
    "\n",
    "We do this by calling `autogluon.core.metrics.make_scorer`."
   ]
  },
  {
   "cell_type": "code",
   "execution_count": null,
   "id": "07d90122",
   "metadata": {},
   "outputs": [],
   "source": [
    "from autogluon.core.metrics import make_scorer\n",
    "ag_accuracy_scorer = make_scorer(name='accuracy',\n",
    "                                 score_func=sklearn.metrics.accuracy_score,\n",
    "                                 optimum=1,\n",
    "                                 greater_is_better=True)"
   ]
  },
  {
   "cell_type": "markdown",
   "id": "380cfe05",
   "metadata": {},
   "source": [
    "When creating the Scorer, we need to specify a name for the Scorer. This does not need to be any particular value, but is used when printing information about the Scorer during training.\n",
    "\n",
    "Next, we specify the `score_func`. This is the function we want to wrap, in this case, sklearn's `accuracy_score` function.\n",
    "\n",
    "We then need to specify the optimum value. This is necessary when calculating error as opposed to score. Error is calculated as `optimum - score`. It is also useful to identify when a score is optimal and cannot be improved.\n",
    "\n",
    "Finally, we need to specify `greater_is_better`. In this case, `greater_is_better=True` because the best value returned is 1, and the worst value returned is less than 1 (0). It is very important to set this value correctly, otherwise AutoGluon will try to optimize for the **worst** model instead of the best.\n",
    "\n",
    "Once created, the AutoGluon Scorer can be called in the same fashion as the original metric."
   ]
  },
  {
   "cell_type": "code",
   "execution_count": null,
   "id": "bdf8f0ed",
   "metadata": {},
   "outputs": [],
   "source": [
    "ag_accuracy_scorer(y_true, y_pred)"
   ]
  },
  {
   "cell_type": "markdown",
   "id": "3d386227",
   "metadata": {},
   "source": [
    "## Custom Mean Squared Error Metric\n",
    "\n",
    "Next, let's show examples of how to convert regression metrics into Scorers.\n",
    "\n",
    "First we generate random ground truth labels and their predictions, however this time they are floats instead of integers."
   ]
  },
  {
   "cell_type": "code",
   "execution_count": null,
   "id": "1e8a600c",
   "metadata": {},
   "outputs": [],
   "source": [
    "y_true = np.random.rand(10)\n",
    "y_pred = np.random.rand(10)\n",
    "\n",
    "print(f'y_true: {y_true}')\n",
    "print(f'y_pred: {y_pred}')"
   ]
  },
  {
   "cell_type": "markdown",
   "id": "7074a97e",
   "metadata": {},
   "source": [
    "A common regression metric is Mean Squared Error:"
   ]
  },
  {
   "cell_type": "code",
   "execution_count": null,
   "id": "36e10978",
   "metadata": {},
   "outputs": [],
   "source": [
    "sklearn.metrics.mean_squared_error(y_true, y_pred)"
   ]
  },
  {
   "cell_type": "code",
   "execution_count": null,
   "id": "ed8ff603",
   "metadata": {},
   "outputs": [],
   "source": [
    "ag_mean_squared_error_scorer = make_scorer(name='mean_squared_error',\n",
    "                                           score_func=sklearn.metrics.mean_squared_error,\n",
    "                                           optimum=0,\n",
    "                                           greater_is_better=False)"
   ]
  },
  {
   "cell_type": "markdown",
   "id": "b6dd3192",
   "metadata": {},
   "source": [
    "In this case, optimum is 0 because this is an error metric.\n",
    "\n",
    "Additionally, `greater_is_better=False` because sklearn reports error as positive values, and the lower the value is, the better.\n",
    "\n",
    "A very important point about AutoGluon Scorers is that internally, they will always report scores in `greater_is_better=True` form. This means if the original metric was `greater_is_better=False`, AutoGluon's Scorer will flip the value. Therefore, error will be represented as negative values.\n",
    "\n",
    "This is done to ensure consistency between different metrics."
   ]
  },
  {
   "cell_type": "code",
   "execution_count": null,
   "id": "539f394e",
   "metadata": {},
   "outputs": [],
   "source": [
    "ag_mean_squared_error_scorer(y_true, y_pred)"
   ]
  },
  {
   "cell_type": "markdown",
   "id": "850f263f",
   "metadata": {},
   "source": [
    "We can also specify metrics outside of sklearn. For example, below is a minimal implementation of mean squared error:"
   ]
  },
  {
   "cell_type": "code",
   "execution_count": null,
   "id": "0d8738b9",
   "metadata": {},
   "outputs": [],
   "source": [
    "def mse_func(y_true: np.ndarray, y_pred: np.ndarray) -> float:\n",
    "    return ((y_true - y_pred) ** 2).mean()\n",
    "\n",
    "mse_func(y_true, y_pred)"
   ]
  },
  {
   "cell_type": "markdown",
   "id": "576d2e08",
   "metadata": {},
   "source": [
    "All that is required is that the function take two arguments: `y_true`, and `y_pred` (or `y_pred_proba`), as numpy arrays, and return a float value.\n",
    "\n",
    "With the same code as before, we can create an AutoGluon Scorer."
   ]
  },
  {
   "cell_type": "code",
   "execution_count": null,
   "id": "1b4d09ee",
   "metadata": {},
   "outputs": [],
   "source": [
    "ag_mean_squared_error_custom_scorer = make_scorer(name='mean_squared_error',\n",
    "                                                  score_func=mse_func,\n",
    "                                                  optimum=0,\n",
    "                                                  greater_is_better=False)\n",
    "ag_mean_squared_error_custom_scorer(y_true, y_pred)"
   ]
  },
  {
   "cell_type": "markdown",
   "id": "807fc591",
   "metadata": {},
   "source": [
    "## Custom ROC AUC Metric\n",
    "\n",
    "Here we show an example of a thresholding metric, `roc_auc`. A thresholding metric cares about the relative ordering of predictions, but not their absolute values."
   ]
  },
  {
   "cell_type": "code",
   "execution_count": null,
   "id": "6fba1f1e",
   "metadata": {},
   "outputs": [],
   "source": [
    "y_true = np.random.randint(low=0, high=2, size=10)\n",
    "y_pred_proba = np.random.rand(10)\n",
    "\n",
    "print(f'y_true:       {y_true}')\n",
    "print(f'y_pred_proba: {y_pred_proba}')"
   ]
  },
  {
   "cell_type": "code",
   "execution_count": null,
   "id": "2f563400",
   "metadata": {},
   "outputs": [],
   "source": [
    "sklearn.metrics.roc_auc_score(y_true, y_pred_proba)"
   ]
  },
  {
   "cell_type": "markdown",
   "id": "b8c2c8c8",
   "metadata": {},
   "source": [
    "We will need to specify `needs_threshold=True` in order for downstream models to properly use the metric."
   ]
  },
  {
   "cell_type": "code",
   "execution_count": null,
   "id": "544dd97c",
   "metadata": {},
   "outputs": [],
   "source": [
    "# Score functions that need decision values\n",
    "ag_roc_auc_scorer = make_scorer(name='roc_auc',\n",
    "                                score_func=sklearn.metrics.roc_auc_score,\n",
    "                                optimum=1,\n",
    "                                greater_is_better=True,\n",
    "                                needs_threshold=True)\n",
    "ag_roc_auc_scorer(y_true, y_pred_proba)"
   ]
  },
  {
   "cell_type": "markdown",
   "id": "5e8575b0",
   "metadata": {},
   "source": [
    "## Using Custom Metrics in TabularPredictor\n",
    "\n",
    "Now that we have created several custom Scorers, let's use them for training and evaluating models.\n",
    "\n",
    "For this tutorial, we will be using the Adult Income dataset."
   ]
  },
  {
   "cell_type": "code",
   "execution_count": null,
   "id": "316d0633",
   "metadata": {},
   "outputs": [],
   "source": [
    "from autogluon.tabular import TabularDataset\n",
    "\n",
    "train_data = TabularDataset('https://autogluon.s3.amazonaws.com/datasets/Inc/train.csv')  # can be local CSV file as well, returns Pandas DataFrame\n",
    "test_data = TabularDataset('https://autogluon.s3.amazonaws.com/datasets/Inc/test.csv')  # another Pandas DataFrame\n",
    "label = 'class'  # specifies which column do we want to predict\n",
    "train_data = train_data.sample(n=1000, random_state=0)  # subsample for faster demo\n",
    "\n",
    "train_data.head(5)"
   ]
  },
  {
   "cell_type": "code",
   "execution_count": null,
   "id": "d21870c9",
   "metadata": {},
   "outputs": [],
   "source": [
    "from autogluon.tabular import TabularPredictor\n",
    "\n",
    "predictor = TabularPredictor(label=label).fit(train_data, hyperparameters='toy')\n",
    "\n",
    "predictor.leaderboard(test_data, silent=True)"
   ]
  },
  {
   "cell_type": "markdown",
   "id": "c8d2c530",
   "metadata": {},
   "source": [
    "We can pass our custom metrics into `predictor.leaderboard` via the `extra_metrics` argument:"
   ]
  },
  {
   "cell_type": "code",
   "execution_count": null,
   "id": "bb9a8bd8",
   "metadata": {},
   "outputs": [],
   "source": [
    "predictor.leaderboard(test_data, extra_metrics=[ag_roc_auc_scorer, ag_accuracy_scorer], silent=True)"
   ]
  },
  {
   "cell_type": "markdown",
   "id": "e03bbbeb",
   "metadata": {},
   "source": [
    "We can also pass our custom metric into the Predictor itself by specifying it during initialization via the `eval_metric` parameter:"
   ]
  },
  {
   "cell_type": "code",
   "execution_count": null,
   "id": "951925e3",
   "metadata": {},
   "outputs": [],
   "source": [
    "predictor_custom = TabularPredictor(label=label, eval_metric=ag_roc_auc_scorer).fit(train_data, hyperparameters='toy')\n",
    "\n",
    "predictor_custom.leaderboard(test_data, silent=True)"
   ]
  },
  {
   "cell_type": "markdown",
   "id": "b6fc8648",
   "metadata": {},
   "source": [
    "That's all it takes to create and use custom metrics in AutoGluon!\n",
    "\n",
    "If you create a custom metric, consider [submitting a PR](https://github.com/awslabs/autogluon/pulls) so that we can add it officially to AutoGluon!\n",
    "\n",
    "For a tutorial on implementing custom models in AutoGluon, refer to :ref:`sec_tabularcustommodel`.\n",
    "\n",
    "For more tutorials, refer to :ref:`sec_tabularquick` and :ref:`sec_tabularadvanced`."
   ]
  }
 ],
 "metadata": {
  "language_info": {
   "name": "python"
  }
 },
 "nbformat": 4,
 "nbformat_minor": 5
}