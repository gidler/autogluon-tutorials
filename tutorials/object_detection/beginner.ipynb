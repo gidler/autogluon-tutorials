{
 "cells": [
  {
   "cell_type": "markdown",
   "id": "146edb65",
   "metadata": {},
   "source": [
    "[![Open In Colab](https://colab.research.google.com/assets/colab-badge.svg)](https://colab.research.google.com/github/gidler/autogluon-tutorials/blob/main/tutorials/object_detection/beginner.ipynb)\n",
    "[![Open In SageMaker Studio Lab](https://studiolab.sagemaker.aws/studiolab.svg)](https://studiolab.sagemaker.aws/import/github/gidler/autogluon-tutorials/blob/main/tutorials/object_detection/beginner.ipynb)\n"
   ]
  },
  {
   "cell_type": "code",
   "execution_count": null,
   "id": "c45ce714",
   "outputs": [],
   "metadata": {},
   "source": [
    "# Uncomment the code below and run this cell if AutoGluon is not yet installed in the kernel.\n",
    "# !pip install autogluon==0.5.0  # These tutorials are based on AutoGluon v0.5.0 and might not work with different versions."
   ]
  },
  {
   "cell_type": "markdown",
   "id": "90c28c0c",
   "metadata": {},
   "source": [
    "# Object Detection - Quick Start\n",
    "\n",
    "\n",
    "\n",
    "Object detection is the process of identifying and localizing objects in an image and is an important task in computer vision. Follow this tutorial to learn how to use AutoGluon for object detection.\n",
    "\n",
    "**Tip**: If you are new to AutoGluon, review [tutorials/image_prediction/beginner.ipynb](https://github.com/gidler/autogluon-tutorials/blob/main/tutorials/image_prediction/beginner.ipynb) first to learn the basics of the AutoGluon API.\n",
    "\n",
    "Our goal is to detect motorbike in images by [YOLOv3 model](https://pjreddie.com/media/files/papers/YOLOv3.pdf). A tiny dataset is collected from VOC dataset, which only contains the motorbike category. The model pretrained on the COCO dataset is used to fine-tune our small dataset. With the help of AutoGluon, we are able to try many models with different hyperparameters automatically, and return the best one as our final model.\n",
    "\n",
    "To start, import ObjectDetector:"
   ]
  },
  {
   "cell_type": "code",
   "execution_count": null,
   "id": "1bccb5e8",
   "metadata": {},
   "outputs": [],
   "source": [
    "from autogluon.vision import ObjectDetector"
   ]
  },
  {
   "cell_type": "markdown",
   "id": "561db3bb",
   "metadata": {},
   "source": [
    "## Tiny_motorbike Dataset\n",
    "We collect a toy dataset for detecting motorbikes in images. From the VOC dataset, images are randomly selected for training, validation, and testing - 120 images for training, 50 images for validation, and 50 for testing. This tiny dataset follows the same format as VOC.\n",
    "\n",
    "Using the commands below, we can download this dataset, which is only 23M. The name of unzipped folder is called `tiny_motorbike`. Anyway, the task dataset helper can perform the download and extraction automatically, and load the dataset according to the detection formats."
   ]
  },
  {
   "cell_type": "code",
   "execution_count": null,
   "id": "4422d0ba",
   "metadata": {},
   "outputs": [],
   "source": [
    "url = 'https://autogluon.s3.amazonaws.com/datasets/tiny_motorbike.zip'\n",
    "dataset_train = ObjectDetector.Dataset.from_voc(url, splits='trainval')"
   ]
  },
  {
   "cell_type": "markdown",
   "id": "2977de62",
   "metadata": {},
   "source": [
    "## Fit Models by AutoGluon\n",
    "In this section, we demonstrate how to apply AutoGluon to fit our detection models. We use mobilenet as the backbone for the YOLOv3 model. Two different learning rates are used to fine-tune the network. The best model is the one that obtains the best performance on the validation dataset. You can also try using more networks and hyperparameters to create a larger searching space.\n",
    "\n",
    "We `fit` a classifier using AutoGluon as follows. In each experiment (one trial in our searching space), we train the model for 5 epochs to avoid bursting our tutorial runtime."
   ]
  },
  {
   "cell_type": "code",
   "execution_count": null,
   "id": "10a642e2",
   "metadata": {},
   "outputs": [],
   "source": [
    "time_limit = 60*30  # at most 0.5 hour\n",
    "detector = ObjectDetector()\n",
    "hyperparameters = {'epochs': 5, 'batch_size': 8}\n",
    "hyperparameter_tune_kwargs={'num_trials': 2}\n",
    "detector.fit(dataset_train, time_limit=time_limit, hyperparameters=hyperparameters, hyperparameter_tune_kwargs=hyperparameter_tune_kwargs)\n"
   ]
  },
  {
   "cell_type": "markdown",
   "id": "eec8b6ec",
   "metadata": {},
   "source": [
    "Note that `num_trials=2` above is only used to speed up the tutorial. In normal\n",
    "practice, it is common to only use `time_limit` and drop `num_trials`. Also note\n",
    "that hyperparameter tuning defaults to random search.\n",
    "\n",
    "After fitting, AutoGluon automatically returns the best model among all models in the searching space. From the output, we know the best model is the one trained with the second learning rate. To see how well the returned model performed on test dataset, call detector.evaluate()."
   ]
  },
  {
   "cell_type": "code",
   "execution_count": null,
   "id": "481fc809",
   "metadata": {},
   "outputs": [],
   "source": [
    "dataset_test = ObjectDetector.Dataset.from_voc(url, splits='test')\n",
    "\n",
    "test_map = detector.evaluate(dataset_test)\n",
    "print(\"mAP on test dataset: {}\".format(test_map[1][-1]))"
   ]
  },
  {
   "cell_type": "markdown",
   "id": "ccf919d0",
   "metadata": {},
   "source": [
    "Below, we randomly select an image from test dataset and show the predicted class, box and probability over the origin image, stored in `predict_class`, `predict_rois` and `predict_score` columns, respectively. You can interpret `predict_rois` as a dict of (`xmin`, `ymin`, `xmax`, `ymax`) proportional to original image size."
   ]
  },
  {
   "cell_type": "code",
   "execution_count": null,
   "id": "2375dfcf",
   "metadata": {},
   "outputs": [],
   "source": [
    "image_path = dataset_test.iloc[0]['image']\n",
    "result = detector.predict(image_path)\n",
    "print(result)"
   ]
  },
  {
   "cell_type": "markdown",
   "id": "cc3b9e47",
   "metadata": {},
   "source": [
    "Prediction with multiple images is permitted:"
   ]
  },
  {
   "cell_type": "code",
   "execution_count": null,
   "id": "d65f38ff",
   "metadata": {},
   "outputs": [],
   "source": [
    "bulk_result = detector.predict(dataset_test)\n",
    "print(bulk_result)"
   ]
  },
  {
   "cell_type": "markdown",
   "id": "b868e4f2",
   "metadata": {},
   "source": [
    "We can also save the trained model, and use it later."
   ]
  },
  {
   "cell_type": "code",
   "execution_count": null,
   "id": "06486ab7",
   "metadata": {},
   "outputs": [],
   "source": [
    "savefile = 'detector.ag'\n",
    "detector.save(savefile)\n",
    "new_detector = ObjectDetector.load(savefile)"
   ]
  }
 ],
 "metadata": {
  "language_info": {
   "name": "python"
  }
 },
 "nbformat": 4,
 "nbformat_minor": 5
}