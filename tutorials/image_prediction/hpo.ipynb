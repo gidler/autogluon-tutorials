{
 "cells": [
  {
   "cell_type": "markdown",
   "id": "d43f5cfe",
   "metadata": {},
   "source": [
    "[![Open In Colab](https://colab.research.google.com/assets/colab-badge.svg)](https://colab.research.google.com/github/gidler/autogluon-tutorials/blob/main/tutorials/image_prediction/hpo.ipynb)\n",
    "[![Open In SageMaker Studio Lab](https://studiolab.sagemaker.aws/studiolab.svg)](https://studiolab.sagemaker.aws/import/github/gidler/autogluon-tutorials/blob/main/tutorials/image_prediction/hpo.ipynb)\n"
   ]
  },
  {
   "cell_type": "code",
   "execution_count": null,
   "id": "06aa95d2",
   "metadata": {},
   "outputs": [],
   "source": [
    "# Uncomment the code below and run this cell if AutoGluon is not yet installed in the kernel.\n",
    "# !pip install autogluon==0.5.2  # These tutorials are based on AutoGluon v0.5.2 and might not work with different versions."
   ]
  },
  {
   "cell_type": "markdown",
   "id": "567037b7",
   "metadata": {},
   "source": [
    "# Image Prediction - Search Space and Hyperparameter Optimization (HPO)\n",
    "\n",
    "\n",
    "\n",
    "While the [tutorials/image_prediction/beginner.ipynb](https://github.com/gidler/autogluon-tutorials/blob/main/tutorials/image_prediction/beginner.ipynb) introduced basic usage of AutoGluon `fit`, `evaluate`, `predict` with default configurations, this tutorial dives into the various options that you can specify for more advanced control over the fitting process.\n",
    "\n",
    "These options include:\n",
    "\n",
    "- Defining the search space of various hyperparameter values for the training of neural networks\n",
    "- Specifying how to search through your chosen hyperparameter space\n",
    "- Specifying how to schedule jobs to train a network under a particular hyperparameter configuration.\n",
    "\n",
    "The advanced functionalities of AutoGluon enable you to use your external knowledge about your particular prediction problem and computing resources to guide the training process. If properly used, you may be able to achieve superior performance within less training time.\n",
    "\n",
    "**Tip**: If you are new to AutoGluon, review [tutorials/image_prediction/beginner.ipynb](https://github.com/gidler/autogluon-tutorials/blob/main/tutorials/image_prediction/beginner.ipynb) to learn the basics of the AutoGluon API.\n",
    "\n",
    "Since our task is to classify images, we will use AutoGluon to produce an [ImagePredictor](https://auto.gluon.ai/stable/api/autogluon.predictor.html#autogluon.vision.ImagePredictor):"
   ]
  },
  {
   "cell_type": "code",
   "execution_count": null,
   "id": "5a68146b",
   "metadata": {},
   "outputs": [],
   "source": [
    "import autogluon.core as ag\n",
    "from autogluon.vision import ImagePredictor, ImageDataset"
   ]
  },
  {
   "cell_type": "markdown",
   "id": "23f3f3f5",
   "metadata": {},
   "source": [
    "## Create AutoGluon Dataset\n",
    "\n",
    "Let's first create the dataset using the same subset of the `Shopee-IET` dataset as the [tutorials/image_prediction/beginner.ipynb](https://github.com/gidler/autogluon-tutorials/blob/main/tutorials/image_prediction/beginner.ipynb) tutorial.\n",
    "Recall that there's no validation split in original data, a 90/10 train/validation split is automatically performed when `fit` with `train_data`."
   ]
  },
  {
   "cell_type": "code",
   "execution_count": null,
   "id": "ad2accd5",
   "metadata": {},
   "outputs": [],
   "source": [
    "train_data, _, test_data = ImageDataset.from_folders('https://autogluon.s3.amazonaws.com/datasets/shopee-iet.zip')"
   ]
  },
  {
   "cell_type": "markdown",
   "id": "aa6e6b2c",
   "metadata": {},
   "source": [
    "## Specify which Networks to Try\n",
    "\n",
    "We start with specifying the pretrained neural network candidates.\n",
    "Given such a list, AutoGluon tries to train different networks from this list to identify the best-performing candidate.\n",
    "This is an example of a :class:`autogluon.core.space.Categorical` search space, in which there are a limited number of values to choose from."
   ]
  },
  {
   "cell_type": "code",
   "execution_count": null,
   "id": "110efdc6",
   "metadata": {},
   "outputs": [],
   "source": [
    "model = ag.Categorical('resnet18_v1b', 'mobilenetv3_small')\n",
    "\n",
    "# you may choose more than 70+ available model in the model zoo provided by GluonCV:\n",
    "model_list = ImagePredictor.list_models()"
   ]
  },
  {
   "cell_type": "markdown",
   "id": "6d6c8fb2",
   "metadata": {},
   "source": [
    "## Specify the training hyper-parameters\n",
    "\n",
    "Similarly, we can manually specify many crucial hyper-parameters, with specific value or search space (`autogluon.core.space`)."
   ]
  },
  {
   "cell_type": "code",
   "execution_count": null,
   "id": "5f8c72c9",
   "metadata": {},
   "outputs": [],
   "source": [
    "batch_size = 8\n",
    "lr = ag.Categorical(1e-2, 1e-3)"
   ]
  },
  {
   "cell_type": "markdown",
   "id": "428a2561",
   "metadata": {},
   "source": [
    "## Search Algorithms\n",
    "\n",
    "In AutoGluon, `autogluon.core.searcher` supports different search strategies for both hyperparameter optimization and architecture search.\n",
    "Beyond simply specifying the space of hyperparameter configurations to search over, you can also tell AutoGluon what strategy it should employ to actually search through this space.\n",
    "This process of finding good hyperparameters from a given search space is commonly referred to as *hyperparameter optimization* (HPO) or *hyperparameter tuning*.\n",
    "`autogluon.core.scheduler` orchestrates how individual training jobs are scheduled.\n",
    "We currently support random search.\n",
    "\n",
    "### Random Search\n",
    "\n",
    "Here is an example of using random search using :class:`autogluon.core.searcher.LocalRandomSearcher`."
   ]
  },
  {
   "cell_type": "code",
   "execution_count": null,
   "id": "58f521b8",
   "metadata": {},
   "outputs": [],
   "source": [
    "hyperparameters={'model': model, 'batch_size': batch_size, 'lr': lr, 'epochs': 2}\n",
    "predictor = ImagePredictor()\n",
    "predictor.fit(train_data, time_limit=60*10, hyperparameters=hyperparameters,\n",
    "              hyperparameter_tune_kwargs={'num_trials': 2})\n",
    "print('Top-1 val acc: %.3f' % predictor.fit_summary()['valid_acc'])"
   ]
  },
  {
   "cell_type": "markdown",
   "id": "257a4b45",
   "metadata": {},
   "source": [
    "Load the test dataset and evaluate:"
   ]
  },
  {
   "cell_type": "code",
   "execution_count": null,
   "id": "f1a6381c",
   "metadata": {},
   "outputs": [],
   "source": [
    "results = predictor.evaluate(test_data)\n",
    "print('Test acc on hold-out data:', results)"
   ]
  },
  {
   "cell_type": "markdown",
   "id": "8299e969",
   "metadata": {},
   "source": [
    "Note that `num_trials=2` above is only used to speed up the tutorial. In normal\n",
    "practice, it is common to only use `time_limit` and drop `num_trials`."
   ]
  }
 ],
 "metadata": {
  "language_info": {
   "name": "python"
  }
 },
 "nbformat": 4,
 "nbformat_minor": 5
}
