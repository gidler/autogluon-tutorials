{
 "cells": [
  {
   "cell_type": "markdown",
   "id": "2e3472c2",
   "metadata": {},
   "source": [
    "[![Open In Colab](https://colab.research.google.com/assets/colab-badge.svg)](https://colab.research.google.com/github/gidler/autogluon-tutorials/blob/main/tutorials/image_prediction/beginner.ipynb)\n",
    "[![Open In SageMaker Studio Lab](https://studiolab.sagemaker.aws/studiolab.svg)](https://studiolab.sagemaker.aws/import/github/gidler/autogluon-tutorials/blob/main/tutorials/image_prediction/beginner.ipynb)\n"
   ]
  },
  {
   "cell_type": "code",
   "execution_count": null,
   "id": "81a9681d",
   "outputs": [],
   "metadata": {},
   "source": [
    "# Uncomment the code below and run this cell if AutoGluon is not yet installed in the kernel.\n",
    "# !pip install autogluon==0.5.0  # These tutorials are based on AutoGluon v0.5.0 and might not work with different versions."
   ]
  },
  {
   "cell_type": "markdown",
   "id": "eee381da",
   "metadata": {},
   "source": [
    "# Image Prediction - Quick Start\n",
    "\n",
    "\n",
    "\n",
    "In this quick start, we'll use the task of image classification to illustrate how to use AutoGluon\u2019s APIs. This tutorial demonstrates how to load images and corresponding labels into AutoGluon and use this data to obtain a neural network that can classify new images. This is different from traditional machine learning where we need to manually define the neural network and then specify the hyperparameters in the training process. Instead, with just a single call to AutoGluon's [fit](../../api/autogluon.predictor.html#autogluon.vision.ImagePredictor.fit) function, AutoGluon automatically trains many models with different hyperparameter configurations and returns the model that achieved the highest level of accuracy."
   ]
  },
  {
   "cell_type": "code",
   "execution_count": null,
   "id": "cae85519",
   "metadata": {},
   "outputs": [],
   "source": [
    "import autogluon.core as ag\n",
    "from autogluon.vision import ImagePredictor, ImageDataset"
   ]
  },
  {
   "cell_type": "markdown",
   "id": "a78d26d9",
   "metadata": {},
   "source": [
    "## Create Image Dataset\n",
    "\n",
    "For demonstration purposes, we use a subset of the [Shopee-IET dataset](https://www.kaggle.com/c/shopee-iet-machine-learning-competition/data) from Kaggle.\n",
    "Each image in this data depicts a clothing item and the corresponding label specifies its clothing category.\n",
    "Our subset of the data contains the following possible labels: `BabyPants`, `BabyShirt`, `womencasualshoes`, `womenchiffontop`.\n",
    "\n",
    "We can load a dataset by downloading a url data automatically:"
   ]
  },
  {
   "cell_type": "code",
   "execution_count": null,
   "id": "0e10fc4b",
   "metadata": {},
   "outputs": [],
   "source": [
    "train_dataset, _, test_dataset = ImageDataset.from_folders('https://autogluon.s3.amazonaws.com/datasets/shopee-iet.zip')\n",
    "print(train_dataset)"
   ]
  },
  {
   "cell_type": "markdown",
   "id": "91dd8e9d",
   "metadata": {},
   "source": [
    "## Use AutoGluon to Fit Models\n",
    "\n",
    "Now, we fit a classifier using AutoGluon as follows:"
   ]
  },
  {
   "cell_type": "code",
   "execution_count": null,
   "id": "e45e2f7d",
   "metadata": {},
   "outputs": [],
   "source": [
    "predictor = ImagePredictor()\n",
    "# since the original dataset does not provide validation split, the `fit` function splits it randomly with 90/10 ratio\n",
    "predictor.fit(train_dataset, hyperparameters={'epochs': 2})  # you can trust the default config, we reduce the # epoch to save some build time"
   ]
  },
  {
   "cell_type": "markdown",
   "id": "4cbdf5bb",
   "metadata": {},
   "source": [
    "Within `fit`, the dataset is automatically split into training and validation sets.\n",
    "The model with the best hyperparameter configuration is selected based on its performance on the validation set.\n",
    "The best model is finally retrained on our entire dataset (i.e., merging training+validation) using the best configuration.\n",
    "\n",
    "The best Top-1 accuracy achieved on the validation set is as follows:"
   ]
  },
  {
   "cell_type": "code",
   "execution_count": null,
   "id": "f01cb18d",
   "metadata": {},
   "outputs": [],
   "source": [
    "fit_result = predictor.fit_summary()\n",
    "print('Top-1 train acc: %.3f, val acc: %.3f' %(fit_result['train_acc'], fit_result['valid_acc']))"
   ]
  },
  {
   "cell_type": "markdown",
   "id": "ae935cfd",
   "metadata": {},
   "source": [
    "## Predict on a New Image\n",
    "\n",
    "Given an example image, we can easily use the final model to `predict` the label (and the conditional class-probability denoted as `score`):"
   ]
  },
  {
   "cell_type": "code",
   "execution_count": null,
   "id": "ef67f524",
   "metadata": {},
   "outputs": [],
   "source": [
    "image_path = test_dataset.iloc[0]['image']\n",
    "result = predictor.predict(image_path)\n",
    "print(result)"
   ]
  },
  {
   "cell_type": "markdown",
   "id": "4821f0de",
   "metadata": {},
   "source": [
    "If probabilities of all categories are needed, you can call `predict_proba`:"
   ]
  },
  {
   "cell_type": "code",
   "execution_count": null,
   "id": "a3ff9304",
   "metadata": {},
   "outputs": [],
   "source": [
    "proba = predictor.predict_proba(image_path)\n",
    "print(proba)"
   ]
  },
  {
   "cell_type": "markdown",
   "id": "742fc3d6",
   "metadata": {},
   "source": [
    "You can also feed in multiple images all together, let's use images in test dataset as an example:"
   ]
  },
  {
   "cell_type": "code",
   "execution_count": null,
   "id": "1368a54e",
   "metadata": {},
   "outputs": [],
   "source": [
    "bulk_result = predictor.predict(test_dataset)\n",
    "print(bulk_result)"
   ]
  },
  {
   "cell_type": "markdown",
   "id": "51c82792",
   "metadata": {},
   "source": [
    "An extra column will be included in bulk prediction, to indicate the corresponding image for the row. There will be (# image) rows in the result, each row includes `class`, `score`, `id` and `image` for prediction class, prediction confidence, class id, and image path respectively.\n",
    "\n",
    "\n",
    "## Generate image features with a classifier\n",
    "\n",
    "Extracting representation from the whole image learned by a model is also very useful. We provide `predict_feature` function to allow predictor to return the N-dimensional image feature where `N` depends on the model(usually a 512 to 2048 length vector)"
   ]
  },
  {
   "cell_type": "code",
   "execution_count": null,
   "id": "ee6647bc",
   "metadata": {},
   "outputs": [],
   "source": [
    "image_path = test_dataset.iloc[0]['image']\n",
    "feature = predictor.predict_feature(image_path)\n",
    "print(feature)"
   ]
  },
  {
   "cell_type": "markdown",
   "id": "42936eb6",
   "metadata": {},
   "source": [
    "## Evaluate on Test Dataset\n",
    "\n",
    "You can evaluate the classifier on a test dataset rather than retrieving the predictions.\n",
    "\n",
    "The validation and test top-1 accuracy are:"
   ]
  },
  {
   "cell_type": "code",
   "execution_count": null,
   "id": "79bd2932",
   "metadata": {},
   "outputs": [],
   "source": [
    "test_acc = predictor.evaluate(test_dataset)\n",
    "print('Top-1 test acc: %.3f' % test_acc['top1'])"
   ]
  },
  {
   "cell_type": "markdown",
   "id": "32d41e3c",
   "metadata": {},
   "source": [
    "## Save and load classifiers\n",
    "\n",
    "You can directly save the instances of classifiers:"
   ]
  },
  {
   "cell_type": "code",
   "execution_count": null,
   "id": "e7881a2a",
   "metadata": {},
   "outputs": [],
   "source": [
    "filename = 'predictor.ag'\n",
    "predictor.save(filename)\n",
    "predictor_loaded = ImagePredictor.load(filename)\n",
    "# use predictor_loaded as usual\n",
    "result = predictor_loaded.predict(image_path)\n",
    "print(result)"
   ]
  }
 ],
 "metadata": {
  "language_info": {
   "name": "python"
  }
 },
 "nbformat": 4,
 "nbformat_minor": 5
}