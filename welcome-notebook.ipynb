{
 "cells": [
  {
   "cell_type": "markdown",
   "id": "9d6bb706-49b4-4544-b8cf-64ba886d6055",
   "metadata": {},
   "source": [
    "## AutoGluon Tutorial Notebooks\n",
    "AutoGluon maintains a set of [tutorial notebooks](https://github.com/gidler/autogluon-tutorials/tree/main/tutorials) that demonstrate Autogluon functionality, from basic usage to advanced features, providing an easy way to get started with AutoGluon."
   ]
  },
  {
   "cell_type": "markdown",
   "id": "c145bff2-0cbf-4e08-9e20-3a345541f38d",
   "metadata": {},
   "source": [
    "### Running Notebooks\n",
    "The [tutorial notebooks](https://github.com/gidler/autogluon-tutorials/tree/main/tutorials) can be run in several ways:\n",
    "\n",
    "- By cloning the [notebook repository](https://github.com/gidler/autogluon-tutorials) and running [Jupyter](https://docs.jupyter.org/en/latest/index.html) on your local machine\n",
    "\n",
    "- On [Google Colab](https://colab.research.google.com/) if you have a Google account [![Open In Colab](https://colab.research.google.com/assets/colab-badge.svg)](https://colab.research.google.com/github/gidler/autogluon-tutorials/blob/main/welcome-notebook.ipynb) \n",
    "\n",
    "- On [SageMaker Studio Labs](https://studiolab.sagemaker.aws/) with a free account [![Open In SageMaker Studio Lab](https://studiolab.sagemaker.aws/studiolab.svg)](https://studiolab.sagemaker.aws/import/github/gidler/autogluon-tutorials/blob/main/welcome-notebook.ipynb)"
   ]
  },
  {
   "cell_type": "markdown",
   "id": "447167dc-7c86-40d8-81da-6deba1e72817",
   "metadata": {},
   "source": [
    "The notebooks will allow you to immediately modify the code and start training state of the art machine learning models."
   ]
  },
  {
   "cell_type": "markdown",
   "id": "34cf22fd-3001-4297-a1df-11647ef311aa",
   "metadata": {},
   "source": [
    "### Ready To Begin\n",
    "\n",
    "Check out a [Quickstart notebook](https://github.com/gidler/autogluon-tutorials/blob/main/tutorials/tabular_prediction/tabular-quickstart.ipynb) and start exploring AutoGluon."
   ]
  }
 ],
 "metadata": {
  "kernelspec": {
   "display_name": "Python 3 (ipykernel)",
   "language": "python",
   "name": "python3"
  },
  "language_info": {
   "codemirror_mode": {
    "name": "ipython",
    "version": 3
   },
   "file_extension": ".py",
   "mimetype": "text/x-python",
   "name": "python",
   "nbconvert_exporter": "python",
   "pygments_lexer": "ipython3",
   "version": "3.9.7"
  }
 },
 "nbformat": 4,
 "nbformat_minor": 5
}
